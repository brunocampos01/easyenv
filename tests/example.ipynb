{
 "cells": [
  {
   "cell_type": "markdown",
   "metadata": {},
   "source": [
    "# Prepare environment and Data Acquisition"
   ]
  },
  {
   "cell_type": "markdown",
   "metadata": {},
   "source": [
    "### Imports"
   ]
  },
  {
   "cell_type": "code",
   "execution_count": 1,
   "metadata": {},
   "outputs": [],
   "source": [
    "# Data analysis and data wrangling\n",
    "import numpy as np\n",
    "import pandas as pd\n",
    "\n",
    "# Plotting\n",
    "import seaborn as sns\n",
    "import matplotlib.pyplot as plt\n",
    "import missingno as msno # analise de variáveis vazia\n",
    "from IPython.display import Image\n",
    "\n",
    "# Wragling\n",
    "from bs4 import BeautifulSoup\n",
    "\n",
    "# Other\n",
    "import configparser\n",
    "import subprocess\n",
    "import warnings\n",
    "import time\n",
    "import os"
   ]
  },
  {
   "cell_type": "markdown",
   "metadata": {},
   "source": [
    "### Prepare Principal Directory"
   ]
  },
  {
   "cell_type": "code",
   "execution_count": 2,
   "metadata": {},
   "outputs": [],
   "source": [
    "def prepare_directory_work(end_directory: str='notebooks'):\n",
    "    # Current path\n",
    "    curr_dir = os.path.dirname (os.path.realpath (\"__file__\")) \n",
    "    \n",
    "    if curr_dir.endswith(end_directory):\n",
    "        os.chdir('..')\n",
    "        return curr_dir\n",
    "    \n",
    "    return f'Current working directory: {curr_dir}'"
   ]
  },
  {
   "cell_type": "code",
   "execution_count": 3,
   "metadata": {},
   "outputs": [
    {
     "data": {
      "text/plain": [
       "'/home/campos/projetos/artificial_inteligence/projects/analise_despesas_senadores/notebooks'"
      ]
     },
     "execution_count": 3,
     "metadata": {},
     "output_type": "execute_result"
    }
   ],
   "source": [
    "prepare_directory_work(end_directory='notebooks')"
   ]
  },
  {
   "cell_type": "markdown",
   "metadata": {},
   "source": [
    "### Prepare Environment"
   ]
  },
  {
   "cell_type": "code",
   "execution_count": 4,
   "metadata": {
    "scrolled": false
   },
   "outputs": [
    {
     "name": "stdout",
     "output_type": "stream",
     "text": [
      "Requirements this project:\n",
      "\n",
      "numpy==1.16.4\n",
      "pandas==0.24.2\n",
      "seaborn==0.9.0\n",
      "missingno==0.4.1\n",
      "matplotlib==3.1.1\n",
      "ipython==7.6.1\n",
      "beautifulsoup4==4.7.1\n",
      "atlas==0.27.0\n",
      "\n",
      "--------------------------------------------------\n",
      "Configuration Environment:\n",
      "\n",
      "OS:\n",
      "Linux\n",
      "Distributor ID:\tUbuntu\n",
      "Description:\tUbuntu 19.04\n",
      "Release:\t19.04\n",
      "Codename:\tdisco\n",
      "\n",
      "Python Version:\n",
      "Python 3.7.3\n",
      "\n",
      "Pip Version:\n",
      "pip 19.1.1 from /home/campos/projetos/artificial_inteligence/projects/analise_despesas_senadores/src/environment/venv/lib/python3.7/site-packages/pip (python 3.7)\n",
      "\n",
      "Jupyter Version:\n",
      "4.4.0\n",
      "\n",
      "--------------------------------------------------\n",
      "\n",
      "Disk Usage:\n",
      "\n",
      "data:\n",
      "65M\tdata/\n",
      "\n",
      "virtual env:\n",
      "377M\tsrc/environment/venv/\n",
      "\n",
      "all:\n",
      "492M\t.\n",
      "\n",
      "--------------------------------------------------\n",
      "Structure This Project:\n",
      "\n",
      ".\n",
      "├── data\n",
      "│   ├── cleansing\n",
      "│   │   ├── dados_limpos_ceaps_cleansing.csv\n",
      "│   │   └── map_senadores.csv\n",
      "│   └── dumps\n",
      "│       ├── 2008.csv\n",
      "│       ├── 2009.csv\n",
      "│       ├── 2010.csv\n",
      "│       ├── 2011.csv\n",
      "│       ├── 2012.csv\n",
      "│       ├── 2013.csv\n",
      "│       ├── 2014.csv\n",
      "│       ├── 2015.csv\n",
      "│       ├── 2016.csv\n",
      "│       ├── 2017.csv\n",
      "│       ├── 2018.csv\n",
      "│       └── 2019.csv\n",
      "├── notebooks\n",
      "│   ├── 01-prepare-environment-and-data-acquisition.ipynb\n",
      "│   ├── 02-data-cleaning.ipynb\n",
      "│   └── 03-data-exploration.ipynb\n",
      "├── README.md\n",
      "├── references\n",
      "│   └── senado.jpg\n",
      "└── src\n",
      "    ├── dump_data.py\n",
      "    ├── environment\n",
      "    │   ├── config_environment.txt\n",
      "    │   ├── container\n",
      "    │   │   └── Dockerfile\n",
      "    │   ├── create_requirements.sh\n",
      "    │   ├── create_virtual_env.sh\n",
      "    │   ├── __init__.py\n",
      "    │   ├── jupyter_notebook_config.py\n",
      "    │   ├── makefile\n",
      "    │   ├── prepare_env.py\n",
      "    │   ├── README.md\n",
      "    │   ├── requirements.txt\n",
      "    │   ├── show_config_environment.sh\n",
      "    │   ├── show_struture_project.sh\n",
      "    │   ├── struture_project.txt\n",
      "    │   ├── test_environment.py\n",
      "    │   ├── venv\n",
      "    │   └── virtualenv_requirements.txt\n",
      "    ├── __init__.py\n",
      "    └── visualization\n",
      "        └── matplotlib_config.ini\n",
      "\n",
      "10 directories, 37 files\n",
      "\n",
      "--------------------------------------------------\n"
     ]
    }
   ],
   "source": [
    "# from <package>.<module> import <class>\n",
    "from src.environment.prepare_env import *\n",
    "\n",
    "\n",
    "main()"
   ]
  },
  {
   "cell_type": "markdown",
   "metadata": {},
   "source": [
    "### Cell Format"
   ]
  },
  {
   "cell_type": "code",
   "execution_count": 5,
   "metadata": {},
   "outputs": [],
   "source": [
    "# Guarantees visualization inside the jupyter\n",
    "%matplotlib inline\n",
    "\n",
    "# OPTIONAL: Load the \"autoreload\" extension so that code can change\n",
    "%load_ext autoreload\n",
    "\n",
    "# Format the data os all table (float_format 3)\n",
    "pd.set_option('display.float_format', '{:.6}'.format)\n",
    "\n",
    "# Print xxxx rows and columns\n",
    "pd.set_option('display.max_rows', 300)\n",
    "pd.set_option('display.max_columns', None)\n",
    "\n",
    "# Supress unnecessary warnings so that presentation looks clean\n",
    "warnings.filterwarnings('ignore')\n",
    "\n",
    "# Graph style\n",
    "sns.set(style='dark', palette='deep')"
   ]
  },
  {
   "cell_type": "markdown",
   "metadata": {},
   "source": [
    "---\n",
    "\n",
    "## Data Acquisition\n",
    "\n",
    "- **Fonte:**\n",
    "portal da transparência: https://www12.senado.leg.br/transparencia/dados-abertos-transparencia/dados-abertos-ceaps\n",
    "- **Ano**: 2008 até 2019\n",
    "- **Formato**: CSV"
   ]
  },
  {
   "cell_type": "code",
   "execution_count": 6,
   "metadata": {},
   "outputs": [],
   "source": [
    "# Site to get csv\n",
    "url = 'https://www12.senado.leg.br/transparencia/dados-abertos-transparencia/dados-abertos-ceaps'"
   ]
  },
  {
   "cell_type": "code",
   "execution_count": 7,
   "metadata": {},
   "outputs": [],
   "source": [
    "# from <package>.<module> import <class>\n",
    "from src.dump_data import *"
   ]
  },
  {
   "cell_type": "code",
   "execution_count": 8,
   "metadata": {
    "scrolled": false
   },
   "outputs": [
    {
     "name": "stdout",
     "output_type": "stream",
     "text": [
      "Try analysing page ...\n",
      "http://www.senado.gov.br/transparencia/LAI/verba/2019.csv\n",
      "http://www.senado.gov.br/transparencia/LAI/verba/2018.csv\n",
      "http://www.senado.gov.br/transparencia/LAI/verba/2017.csv\n",
      "http://www.senado.gov.br/transparencia/LAI/verba/2016.csv\n",
      "http://www.senado.gov.br/transparencia/LAI/verba/2015.csv\n",
      "http://www.senado.gov.br/transparencia/LAI/verba/2014.csv\n",
      "http://www.senado.gov.br/transparencia/LAI/verba/2013.csv\n",
      "http://www.senado.gov.br/transparencia/LAI/verba/2012.csv\n",
      "http://www.senado.gov.br/transparencia/LAI/verba/2011.csv\n",
      "http://www.senado.gov.br/transparencia/LAI/verba/2010.csv\n",
      "http://www.senado.gov.br/transparencia/LAI/verba/2009.csv\n",
      "http://www.senado.gov.br/transparencia/LAI/verba/2008.csv\n",
      "data/dumps/2019.csv downloaded!\n",
      "data/dumps/2018.csv downloaded!\n",
      "data/dumps/2017.csv downloaded!\n",
      "data/dumps/2016.csv downloaded!\n",
      "data/dumps/2015.csv downloaded!\n",
      "data/dumps/2014.csv downloaded!\n",
      "data/dumps/2013.csv downloaded!\n",
      "data/dumps/2012.csv downloaded!\n",
      "data/dumps/2011.csv downloaded!\n",
      "data/dumps/2010.csv downloaded!\n",
      "data/dumps/2009.csv downloaded!\n",
      "data/dumps/2008.csv downloaded!\n"
     ]
    }
   ],
   "source": [
    "dump_file_csv(url)"
   ]
  },
  {
   "cell_type": "code",
   "execution_count": 9,
   "metadata": {},
   "outputs": [
    {
     "name": "stdout",
     "output_type": "stream",
     "text": [
      "total 62200\r\n",
      "-rw-rw-r-- 1 campos campos  398514 jul  6 17:03 2008.csv\r\n",
      "-rw-rw-r-- 1 campos campos 3217390 jul  6 17:03 2009.csv\r\n",
      "-rw-rw-r-- 1 campos campos 3607479 jul  6 17:02 2010.csv\r\n",
      "-rw-rw-r-- 1 campos campos 5348705 jul  6 17:02 2011.csv\r\n",
      "-rw-rw-r-- 1 campos campos 6469271 jul  6 17:02 2012.csv\r\n",
      "-rw-rw-r-- 1 campos campos 7566564 jul  6 17:01 2013.csv\r\n",
      "-rw-rw-r-- 1 campos campos 6074552 jul  6 17:00 2014.csv\r\n",
      "-rw-rw-r-- 1 campos campos 7206031 jul  6 17:00 2015.csv\r\n",
      "-rw-rw-r-- 1 campos campos 7343514 jul  6 16:59 2016.csv\r\n",
      "-rw-rw-r-- 1 campos campos 7339762 jul  6 16:58 2017.csv\r\n",
      "-rw-rw-r-- 1 campos campos 6706729 jul  6 16:58 2018.csv\r\n",
      "-rw-rw-r-- 1 campos campos 2390072 jul  6 16:57 2019.csv\r\n"
     ]
    }
   ],
   "source": [
    "!ls -lt data/dumps"
   ]
  }
 ],
 "metadata": {
  "kernelspec": {
   "display_name": "Python 3",
   "language": "python",
   "name": "python3"
  },
  "language_info": {
   "codemirror_mode": {
    "name": "ipython",
    "version": 3
   },
   "file_extension": ".py",
   "mimetype": "text/x-python",
   "name": "python",
   "nbconvert_exporter": "python",
   "pygments_lexer": "ipython3",
   "version": "3.7.3"
  }
 },
 "nbformat": 4,
 "nbformat_minor": 2
}
